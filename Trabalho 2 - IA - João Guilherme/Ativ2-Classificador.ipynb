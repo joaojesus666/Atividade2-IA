{
 "cells": [
  {
   "cell_type": "markdown",
   "metadata": {},
   "source": [
    "# Atividade Avaliativa 2 - Classificador casos de COVID-19"
   ]
  },
  {
   "cell_type": "code",
   "execution_count": 1,
   "metadata": {},
   "outputs": [],
   "source": [
    "# importaçao das Bibliotecas\n",
    "import pandas as pd                 # Manipulaçao de dados\n",
    "import numpy as np                  # Funçoes matematicas\n",
    "import matplotlib.pyplot as plt     # plot de graficos"
   ]
  },
  {
   "cell_type": "code",
   "execution_count": 2,
   "metadata": {},
   "outputs": [
    {
     "name": "stderr",
     "output_type": "stream",
     "text": [
      "C:\\Users\\jgmag\\AppData\\Local\\Temp\\ipykernel_5956\\766545696.py:3: DtypeWarning: Columns (15,59,61,62,63,91,93,105,107,114,116,117,118,122,143) have mixed types. Specify dtype option on import or set low_memory=False.\n",
      "  DadosDF = pd.read_csv('INFLUD21-21-02-2022.csv', sep=';')\n"
     ]
    },
    {
     "data": {
      "text/html": [
       "<div>\n",
       "<style scoped>\n",
       "    .dataframe tbody tr th:only-of-type {\n",
       "        vertical-align: middle;\n",
       "    }\n",
       "\n",
       "    .dataframe tbody tr th {\n",
       "        vertical-align: top;\n",
       "    }\n",
       "\n",
       "    .dataframe thead th {\n",
       "        text-align: right;\n",
       "    }\n",
       "</style>\n",
       "<table border=\"1\" class=\"dataframe\">\n",
       "  <thead>\n",
       "    <tr style=\"text-align: right;\">\n",
       "      <th></th>\n",
       "      <th>DT_NOTIFIC</th>\n",
       "      <th>SEM_NOT</th>\n",
       "      <th>DT_SIN_PRI</th>\n",
       "      <th>SEM_PRI</th>\n",
       "      <th>SG_UF_NOT</th>\n",
       "      <th>ID_REGIONA</th>\n",
       "      <th>CO_REGIONA</th>\n",
       "      <th>ID_MUNICIP</th>\n",
       "      <th>CO_MUN_NOT</th>\n",
       "      <th>ID_UNIDADE</th>\n",
       "      <th>...</th>\n",
       "      <th>RES_IGM</th>\n",
       "      <th>RES_IGA</th>\n",
       "      <th>ESTRANG</th>\n",
       "      <th>VACINA_COV</th>\n",
       "      <th>DOSE_1_COV</th>\n",
       "      <th>DOSE_2_COV</th>\n",
       "      <th>LAB_PR_COV</th>\n",
       "      <th>LOTE_1_COV</th>\n",
       "      <th>LOTE_2_COV</th>\n",
       "      <th>FNT_IN_COV</th>\n",
       "    </tr>\n",
       "  </thead>\n",
       "  <tbody>\n",
       "    <tr>\n",
       "      <th>0</th>\n",
       "      <td>06/01/2021</td>\n",
       "      <td>1</td>\n",
       "      <td>05/01/2021</td>\n",
       "      <td>1</td>\n",
       "      <td>SP</td>\n",
       "      <td>GVE XII ARARAQUARA</td>\n",
       "      <td>1337.0</td>\n",
       "      <td>ITAPOLIS</td>\n",
       "      <td>352270</td>\n",
       "      <td>SANTA CASA DE MISERICORDIA ITAPOLIS</td>\n",
       "      <td>...</td>\n",
       "      <td>2.0</td>\n",
       "      <td>4.0</td>\n",
       "      <td>NaN</td>\n",
       "      <td>NaN</td>\n",
       "      <td>NaN</td>\n",
       "      <td>NaN</td>\n",
       "      <td>NaN</td>\n",
       "      <td>NaN</td>\n",
       "      <td>NaN</td>\n",
       "      <td>NaN</td>\n",
       "    </tr>\n",
       "    <tr>\n",
       "      <th>1</th>\n",
       "      <td>09/01/2021</td>\n",
       "      <td>1</td>\n",
       "      <td>08/01/2021</td>\n",
       "      <td>1</td>\n",
       "      <td>MG</td>\n",
       "      <td>UBERLANDIA</td>\n",
       "      <td>1462.0</td>\n",
       "      <td>UBERLANDIA</td>\n",
       "      <td>317020</td>\n",
       "      <td>UAI SAO JORGE</td>\n",
       "      <td>...</td>\n",
       "      <td>NaN</td>\n",
       "      <td>NaN</td>\n",
       "      <td>NaN</td>\n",
       "      <td>NaN</td>\n",
       "      <td>NaN</td>\n",
       "      <td>NaN</td>\n",
       "      <td>NaN</td>\n",
       "      <td>NaN</td>\n",
       "      <td>NaN</td>\n",
       "      <td>NaN</td>\n",
       "    </tr>\n",
       "    <tr>\n",
       "      <th>2</th>\n",
       "      <td>07/01/2021</td>\n",
       "      <td>1</td>\n",
       "      <td>07/01/2021</td>\n",
       "      <td>1</td>\n",
       "      <td>RS</td>\n",
       "      <td>012 CRS</td>\n",
       "      <td>1601.0</td>\n",
       "      <td>SAO BORJA</td>\n",
       "      <td>431800</td>\n",
       "      <td>HOSPITAL IVAN GOULART</td>\n",
       "      <td>...</td>\n",
       "      <td>NaN</td>\n",
       "      <td>NaN</td>\n",
       "      <td>NaN</td>\n",
       "      <td>NaN</td>\n",
       "      <td>NaN</td>\n",
       "      <td>NaN</td>\n",
       "      <td>NaN</td>\n",
       "      <td>NaN</td>\n",
       "      <td>NaN</td>\n",
       "      <td>NaN</td>\n",
       "    </tr>\n",
       "    <tr>\n",
       "      <th>3</th>\n",
       "      <td>10/01/2021</td>\n",
       "      <td>2</td>\n",
       "      <td>08/01/2021</td>\n",
       "      <td>1</td>\n",
       "      <td>RS</td>\n",
       "      <td>002 CRS</td>\n",
       "      <td>1607.0</td>\n",
       "      <td>PORTO ALEGRE</td>\n",
       "      <td>431490</td>\n",
       "      <td>HOSPITAL GERAL DE PORTO ALEGRE</td>\n",
       "      <td>...</td>\n",
       "      <td>NaN</td>\n",
       "      <td>NaN</td>\n",
       "      <td>NaN</td>\n",
       "      <td>NaN</td>\n",
       "      <td>NaN</td>\n",
       "      <td>NaN</td>\n",
       "      <td>NaN</td>\n",
       "      <td>NaN</td>\n",
       "      <td>NaN</td>\n",
       "      <td>NaN</td>\n",
       "    </tr>\n",
       "    <tr>\n",
       "      <th>4</th>\n",
       "      <td>11/01/2021</td>\n",
       "      <td>2</td>\n",
       "      <td>10/01/2021</td>\n",
       "      <td>2</td>\n",
       "      <td>RS</td>\n",
       "      <td>002 CRS</td>\n",
       "      <td>1607.0</td>\n",
       "      <td>PORTO ALEGRE</td>\n",
       "      <td>431490</td>\n",
       "      <td>HOSPITAL NOSSA SENHORA DA CONCEICAO SA</td>\n",
       "      <td>...</td>\n",
       "      <td>4.0</td>\n",
       "      <td>4.0</td>\n",
       "      <td>NaN</td>\n",
       "      <td>NaN</td>\n",
       "      <td>NaN</td>\n",
       "      <td>NaN</td>\n",
       "      <td>NaN</td>\n",
       "      <td>NaN</td>\n",
       "      <td>NaN</td>\n",
       "      <td>NaN</td>\n",
       "    </tr>\n",
       "  </tbody>\n",
       "</table>\n",
       "<p>5 rows × 161 columns</p>\n",
       "</div>"
      ],
      "text/plain": [
       "   DT_NOTIFIC  SEM_NOT  DT_SIN_PRI  SEM_PRI SG_UF_NOT          ID_REGIONA  \\\n",
       "0  06/01/2021        1  05/01/2021        1        SP  GVE XII ARARAQUARA   \n",
       "1  09/01/2021        1  08/01/2021        1        MG          UBERLANDIA   \n",
       "2  07/01/2021        1  07/01/2021        1        RS             012 CRS   \n",
       "3  10/01/2021        2  08/01/2021        1        RS             002 CRS   \n",
       "4  11/01/2021        2  10/01/2021        2        RS             002 CRS   \n",
       "\n",
       "   CO_REGIONA    ID_MUNICIP  CO_MUN_NOT  \\\n",
       "0      1337.0      ITAPOLIS      352270   \n",
       "1      1462.0    UBERLANDIA      317020   \n",
       "2      1601.0     SAO BORJA      431800   \n",
       "3      1607.0  PORTO ALEGRE      431490   \n",
       "4      1607.0  PORTO ALEGRE      431490   \n",
       "\n",
       "                               ID_UNIDADE  ...  RES_IGM RES_IGA ESTRANG  \\\n",
       "0     SANTA CASA DE MISERICORDIA ITAPOLIS  ...      2.0     4.0     NaN   \n",
       "1                           UAI SAO JORGE  ...      NaN     NaN     NaN   \n",
       "2                   HOSPITAL IVAN GOULART  ...      NaN     NaN     NaN   \n",
       "3          HOSPITAL GERAL DE PORTO ALEGRE  ...      NaN     NaN     NaN   \n",
       "4  HOSPITAL NOSSA SENHORA DA CONCEICAO SA  ...      4.0     4.0     NaN   \n",
       "\n",
       "   VACINA_COV  DOSE_1_COV DOSE_2_COV  LAB_PR_COV  LOTE_1_COV  LOTE_2_COV  \\\n",
       "0         NaN         NaN        NaN         NaN         NaN         NaN   \n",
       "1         NaN         NaN        NaN         NaN         NaN         NaN   \n",
       "2         NaN         NaN        NaN         NaN         NaN         NaN   \n",
       "3         NaN         NaN        NaN         NaN         NaN         NaN   \n",
       "4         NaN         NaN        NaN         NaN         NaN         NaN   \n",
       "\n",
       "  FNT_IN_COV  \n",
       "0        NaN  \n",
       "1        NaN  \n",
       "2        NaN  \n",
       "3        NaN  \n",
       "4        NaN  \n",
       "\n",
       "[5 rows x 161 columns]"
      ]
     },
     "execution_count": 2,
     "metadata": {},
     "output_type": "execute_result"
    }
   ],
   "source": [
    "# carrega arquivo csv para variavel Dados\n",
    "# variavel Dados recebe DataFrame\n",
    "DadosDF = pd.read_csv('INFLUD21-21-02-2022.csv', sep=';')\n",
    "# Visualizaçao do DataFrame a ser tratado\n",
    "# head() por padrao so visualiza as 5 primeiras linhas\n",
    "DadosDF.head()"
   ]
  },
  {
   "cell_type": "code",
   "execution_count": 3,
   "metadata": {},
   "outputs": [
    {
     "data": {
      "text/plain": [
       "(1715835, 161)"
      ]
     },
     "execution_count": 3,
     "metadata": {},
     "output_type": "execute_result"
    }
   ],
   "source": [
    "# Tamanho do DataFrame (1715835 Linhas, 161 Colunas)\n",
    "DadosDF.shape"
   ]
  },
  {
   "cell_type": "code",
   "execution_count": 4,
   "metadata": {},
   "outputs": [
    {
     "name": "stdout",
     "output_type": "stream",
     "text": [
      "['DT_NOTIFIC' 'SEM_NOT' 'DT_SIN_PRI' 'SEM_PRI' 'SG_UF_NOT' 'ID_REGIONA'\n",
      " 'CO_REGIONA' 'ID_MUNICIP' 'CO_MUN_NOT' 'ID_UNIDADE' 'CO_UNI_NOT'\n",
      " 'CS_SEXO' 'DT_NASC' 'NU_IDADE_N' 'TP_IDADE' 'COD_IDADE' 'CS_GESTANT'\n",
      " 'CS_RACA' 'CS_ESCOL_N' 'ID_PAIS' 'CO_PAIS' 'SG_UF' 'ID_RG_RESI'\n",
      " 'CO_RG_RESI' 'ID_MN_RESI' 'CO_MUN_RES' 'CS_ZONA' 'SURTO_SG' 'NOSOCOMIAL'\n",
      " 'AVE_SUINO' 'FEBRE' 'TOSSE' 'GARGANTA' 'DISPNEIA' 'DESC_RESP' 'SATURACAO'\n",
      " 'DIARREIA' 'VOMITO' 'OUTRO_SIN' 'OUTRO_DES' 'PUERPERA' 'FATOR_RISC'\n",
      " 'CARDIOPATI' 'HEMATOLOGI' 'SIND_DOWN' 'HEPATICA' 'ASMA' 'DIABETES'\n",
      " 'NEUROLOGIC' 'PNEUMOPATI' 'IMUNODEPRE' 'RENAL' 'OBESIDADE' 'OBES_IMC'\n",
      " 'OUT_MORBI' 'MORB_DESC' 'VACINA' 'DT_UT_DOSE' 'MAE_VAC' 'DT_VAC_MAE'\n",
      " 'M_AMAMENTA' 'DT_DOSEUNI' 'DT_1_DOSE' 'DT_2_DOSE' 'ANTIVIRAL'\n",
      " 'TP_ANTIVIR' 'OUT_ANTIV' 'DT_ANTIVIR' 'HOSPITAL' 'DT_INTERNA'\n",
      " 'SG_UF_INTE' 'ID_RG_INTE' 'CO_RG_INTE' 'ID_MN_INTE' 'CO_MU_INTE' 'UTI'\n",
      " 'DT_ENTUTI' 'DT_SAIDUTI' 'SUPORT_VEN' 'RAIOX_RES' 'RAIOX_OUT' 'DT_RAIOX'\n",
      " 'AMOSTRA' 'DT_COLETA' 'TP_AMOSTRA' 'OUT_AMOST' 'PCR_RESUL' 'DT_PCR'\n",
      " 'POS_PCRFLU' 'TP_FLU_PCR' 'PCR_FLUASU' 'FLUASU_OUT' 'PCR_FLUBLI'\n",
      " 'FLUBLI_OUT' 'POS_PCROUT' 'PCR_VSR' 'PCR_PARA1' 'PCR_PARA2' 'PCR_PARA3'\n",
      " 'PCR_PARA4' 'PCR_ADENO' 'PCR_METAP' 'PCR_BOCA' 'PCR_RINO' 'PCR_OUTRO'\n",
      " 'DS_PCR_OUT' 'CLASSI_FIN' 'CLASSI_OUT' 'CRITERIO' 'EVOLUCAO' 'DT_EVOLUCA'\n",
      " 'DT_ENCERRA' 'DT_DIGITA' 'HISTO_VGM' 'PAIS_VGM' 'CO_PS_VGM' 'LO_PS_VGM'\n",
      " 'DT_VGM' 'DT_RT_VGM' 'PCR_SARS2' 'PAC_COCBO' 'PAC_DSCBO' 'OUT_ANIM'\n",
      " 'DOR_ABD' 'FADIGA' 'PERD_OLFT' 'PERD_PALA' 'TOMO_RES' 'TOMO_OUT'\n",
      " 'DT_TOMO' 'TP_TES_AN' 'DT_RES_AN' 'RES_AN' 'POS_AN_FLU' 'TP_FLU_AN'\n",
      " 'POS_AN_OUT' 'AN_SARS2' 'AN_VSR' 'AN_PARA1' 'AN_PARA2' 'AN_PARA3'\n",
      " 'AN_ADENO' 'AN_OUTRO' 'DS_AN_OUT' 'TP_AM_SOR' 'SOR_OUT' 'DT_CO_SOR'\n",
      " 'TP_SOR' 'OUT_SOR' 'DT_RES' 'RES_IGG' 'RES_IGM' 'RES_IGA' 'ESTRANG'\n",
      " 'VACINA_COV' 'DOSE_1_COV' 'DOSE_2_COV' 'LAB_PR_COV' 'LOTE_1_COV'\n",
      " 'LOTE_2_COV' 'FNT_IN_COV']\n"
     ]
    }
   ],
   "source": [
    "# visualiza todas as colunas\n",
    "print(DadosDF.columns.values)"
   ]
  },
  {
   "cell_type": "code",
   "execution_count": 5,
   "metadata": {},
   "outputs": [
    {
     "data": {
      "text/plain": [
       "'\\nSintomas mais comuns:\\n– tosse\\n– febre\\n– falta de ar progressiva\\n– chiado\\n\\nSintomas menos comuns:\\n- dores e desconfortos\\n- dor de garganta\\n- diarreia\\n- conjuntivite\\n- dor de cabeça\\n- perda de paladar ou olfato\\n- erupção cutânea na pele ou descoloração dos dedos das mãos ou dos pés\\n\\nsintomas graves:\\n- pneumonia, \\n- síndrome respiratória aguda grave \\n- insuficiência renal \\n- morte.\\n\\nPessoas de Risco\\n- idosos, \\n- crianças \\n- pacientes oncológicos, \\n- portadores de imunodeficiências, \\n- doenças respiratórias\\n\\n'"
      ]
     },
     "execution_count": 5,
     "metadata": {},
     "output_type": "execute_result"
    }
   ],
   "source": [
    "# COVID-19 Sintomas\n",
    "'''\n",
    "Sintomas mais comuns:\n",
    "– tosse\n",
    "– febre\n",
    "– falta de ar progressiva\n",
    "– chiado\n",
    "\n",
    "Sintomas menos comuns:\n",
    "- dores e desconfortos\n",
    "- dor de garganta\n",
    "- diarreia\n",
    "- conjuntivite\n",
    "- dor de cabeça\n",
    "- perda de paladar ou olfato\n",
    "- erupção cutânea na pele ou descoloração dos dedos das mãos ou dos pés\n",
    "\n",
    "sintomas graves:\n",
    "- pneumonia, \n",
    "- síndrome respiratória aguda grave \n",
    "- insuficiência renal \n",
    "- morte.\n",
    "\n",
    "Pessoas de Risco\n",
    "- idosos, \n",
    "- crianças \n",
    "- pacientes oncológicos, \n",
    "- portadores de imunodeficiências, \n",
    "- doenças respiratórias\n",
    "\n",
    "'''"
   ]
  },
  {
   "cell_type": "code",
   "execution_count": 6,
   "metadata": {},
   "outputs": [],
   "source": [
    "# Tratamento de Dados"
   ]
  },
  {
   "cell_type": "code",
   "execution_count": 7,
   "metadata": {},
   "outputs": [],
   "source": [
    "# axis=0 linha , axis=1 Coluna\n",
    "# Retirando as colunas desnecessarias\n",
    "# - Remoção de variáveis relacionadas ao óbito (data do óbito e número da declaração de óbito)\n",
    "\n",
    "Dados2DF = DadosDF.drop(['DT_NOTIFIC','SEM_NOT','DT_SIN_PRI','SEM_PRI','SG_UF_NOT','ID_REGIONA','CO_REGIONA','ID_MUNICIP','CO_MUN_NOT','ID_UNIDADE','CO_UNI_NOT','DT_NASC','TP_IDADE', 'COD_IDADE','CS_GESTANT','CS_RACA','CS_ESCOL_N','ID_PAIS','CO_PAIS','SG_UF','ID_RG_RESI','CO_RG_RESI','ID_MN_RESI','CO_MUN_RES','CS_ZONA','AVE_SUINO','SIND_DOWN','NEUROLOGIC','VACINA','DT_UT_DOSE','MAE_VAC','DT_VAC_MAE','M_AMAMENTA','DT_DOSEUNI','DT_1_DOSE','DT_2_DOSE','ANTIVIRAL','TP_ANTIVIR','OUT_ANTIV','DT_ANTIVIR','DT_INTERNA','SG_UF_INTE','ID_RG_INTE','CO_RG_INTE','ID_MN_INTE','CO_MU_INTE','DT_ENTUTI','DT_SAIDUTI','RAIOX_RES','RAIOX_OUT','DT_RAIOX','DT_COLETA','TP_AMOSTRA','OUT_AMOST','DT_EVOLUCA','DT_ENCERRA','DT_DIGITA','DT_VGM','DT_RT_VGM','PAC_COCBO','PAC_DSCBO','OUT_ANIM','DT_TOMO','DT_CO_SOR','DT_RES','SURTO_SG','AN_ADENO','AN_OUTRO','DS_AN_OUT','TP_AM_SOR','SOR_OUT','TP_SOR','OUT_SOR','RES_IGG','RES_IGM','RES_IGA','HISTO_VGM','PAIS_VGM','CO_PS_VGM','LO_PS_VGM','PCR_SARS2','DOR_ABD','FADIGA','PERD_OLFT','PERD_PALA','TOMO_RES','TOMO_OUT','TP_TES_AN','DT_RES_AN','RES_AN','POS_AN_FLU','TP_FLU_AN','POS_AN_OUT','AN_SARS2','AN_VSR','AN_PARA1','AN_PARA2','AN_PARA3','AMOSTRA','PCR_RESUL','DT_PCR','POS_PCRFLU','TP_FLU_PCR','PCR_FLUASU','FLUASU_OUT','PCR_FLUBLI','FLUBLI_OUT','POS_PCROUT','PCR_VSR','PCR_PARA1','PCR_PARA2','PCR_PARA3','PCR_PARA4','PCR_ADENO','PCR_METAP','PCR_BOCA','PCR_RINO','PCR_OUTRO','DS_PCR_OUT','CLASSI_OUT','OBES_IMC','OUT_MORBI','MORB_DESC','SUPORT_VEN','PUERPERA','CS_SEXO','OUTRO_SIN','VOMITO','OUTRO_DES'], axis=1)"
   ]
  },
  {
   "cell_type": "code",
   "execution_count": 8,
   "metadata": {},
   "outputs": [
    {
     "data": {
      "text/plain": [
       "(1715835, 32)"
      ]
     },
     "execution_count": 8,
     "metadata": {},
     "output_type": "execute_result"
    }
   ],
   "source": [
    "# Dados2DF agora possui os daos mais necessarios para a classificaçao\n",
    "Dados2DF.head()\n",
    "Dados2DF.shape"
   ]
  },
  {
   "cell_type": "code",
   "execution_count": 9,
   "metadata": {},
   "outputs": [
    {
     "data": {
      "text/html": [
       "<div>\n",
       "<style scoped>\n",
       "    .dataframe tbody tr th:only-of-type {\n",
       "        vertical-align: middle;\n",
       "    }\n",
       "\n",
       "    .dataframe tbody tr th {\n",
       "        vertical-align: top;\n",
       "    }\n",
       "\n",
       "    .dataframe thead th {\n",
       "        text-align: right;\n",
       "    }\n",
       "</style>\n",
       "<table border=\"1\" class=\"dataframe\">\n",
       "  <thead>\n",
       "    <tr style=\"text-align: right;\">\n",
       "      <th></th>\n",
       "      <th>NU_IDADE_N</th>\n",
       "      <th>NOSOCOMIAL</th>\n",
       "      <th>FEBRE</th>\n",
       "      <th>TOSSE</th>\n",
       "      <th>GARGANTA</th>\n",
       "      <th>DISPNEIA</th>\n",
       "      <th>DESC_RESP</th>\n",
       "      <th>SATURACAO</th>\n",
       "      <th>DIARREIA</th>\n",
       "      <th>FATOR_RISC</th>\n",
       "      <th>...</th>\n",
       "      <th>CRITERIO</th>\n",
       "      <th>EVOLUCAO</th>\n",
       "      <th>ESTRANG</th>\n",
       "      <th>VACINA_COV</th>\n",
       "      <th>DOSE_1_COV</th>\n",
       "      <th>DOSE_2_COV</th>\n",
       "      <th>LAB_PR_COV</th>\n",
       "      <th>LOTE_1_COV</th>\n",
       "      <th>LOTE_2_COV</th>\n",
       "      <th>FNT_IN_COV</th>\n",
       "    </tr>\n",
       "  </thead>\n",
       "  <tbody>\n",
       "    <tr>\n",
       "      <th>0</th>\n",
       "      <td>False</td>\n",
       "      <td>True</td>\n",
       "      <td>False</td>\n",
       "      <td>False</td>\n",
       "      <td>False</td>\n",
       "      <td>False</td>\n",
       "      <td>False</td>\n",
       "      <td>False</td>\n",
       "      <td>False</td>\n",
       "      <td>False</td>\n",
       "      <td>...</td>\n",
       "      <td>False</td>\n",
       "      <td>False</td>\n",
       "      <td>True</td>\n",
       "      <td>True</td>\n",
       "      <td>True</td>\n",
       "      <td>True</td>\n",
       "      <td>True</td>\n",
       "      <td>True</td>\n",
       "      <td>True</td>\n",
       "      <td>True</td>\n",
       "    </tr>\n",
       "    <tr>\n",
       "      <th>1</th>\n",
       "      <td>False</td>\n",
       "      <td>False</td>\n",
       "      <td>False</td>\n",
       "      <td>False</td>\n",
       "      <td>False</td>\n",
       "      <td>False</td>\n",
       "      <td>False</td>\n",
       "      <td>False</td>\n",
       "      <td>False</td>\n",
       "      <td>False</td>\n",
       "      <td>...</td>\n",
       "      <td>False</td>\n",
       "      <td>False</td>\n",
       "      <td>True</td>\n",
       "      <td>True</td>\n",
       "      <td>True</td>\n",
       "      <td>True</td>\n",
       "      <td>True</td>\n",
       "      <td>True</td>\n",
       "      <td>True</td>\n",
       "      <td>True</td>\n",
       "    </tr>\n",
       "    <tr>\n",
       "      <th>2</th>\n",
       "      <td>False</td>\n",
       "      <td>True</td>\n",
       "      <td>False</td>\n",
       "      <td>False</td>\n",
       "      <td>False</td>\n",
       "      <td>False</td>\n",
       "      <td>False</td>\n",
       "      <td>False</td>\n",
       "      <td>False</td>\n",
       "      <td>False</td>\n",
       "      <td>...</td>\n",
       "      <td>False</td>\n",
       "      <td>False</td>\n",
       "      <td>True</td>\n",
       "      <td>True</td>\n",
       "      <td>True</td>\n",
       "      <td>True</td>\n",
       "      <td>True</td>\n",
       "      <td>True</td>\n",
       "      <td>True</td>\n",
       "      <td>True</td>\n",
       "    </tr>\n",
       "    <tr>\n",
       "      <th>3</th>\n",
       "      <td>False</td>\n",
       "      <td>False</td>\n",
       "      <td>False</td>\n",
       "      <td>False</td>\n",
       "      <td>False</td>\n",
       "      <td>False</td>\n",
       "      <td>False</td>\n",
       "      <td>False</td>\n",
       "      <td>False</td>\n",
       "      <td>False</td>\n",
       "      <td>...</td>\n",
       "      <td>False</td>\n",
       "      <td>False</td>\n",
       "      <td>True</td>\n",
       "      <td>True</td>\n",
       "      <td>True</td>\n",
       "      <td>True</td>\n",
       "      <td>True</td>\n",
       "      <td>True</td>\n",
       "      <td>True</td>\n",
       "      <td>True</td>\n",
       "    </tr>\n",
       "    <tr>\n",
       "      <th>4</th>\n",
       "      <td>False</td>\n",
       "      <td>False</td>\n",
       "      <td>False</td>\n",
       "      <td>False</td>\n",
       "      <td>False</td>\n",
       "      <td>False</td>\n",
       "      <td>False</td>\n",
       "      <td>False</td>\n",
       "      <td>False</td>\n",
       "      <td>False</td>\n",
       "      <td>...</td>\n",
       "      <td>False</td>\n",
       "      <td>False</td>\n",
       "      <td>True</td>\n",
       "      <td>True</td>\n",
       "      <td>True</td>\n",
       "      <td>True</td>\n",
       "      <td>True</td>\n",
       "      <td>True</td>\n",
       "      <td>True</td>\n",
       "      <td>True</td>\n",
       "    </tr>\n",
       "    <tr>\n",
       "      <th>...</th>\n",
       "      <td>...</td>\n",
       "      <td>...</td>\n",
       "      <td>...</td>\n",
       "      <td>...</td>\n",
       "      <td>...</td>\n",
       "      <td>...</td>\n",
       "      <td>...</td>\n",
       "      <td>...</td>\n",
       "      <td>...</td>\n",
       "      <td>...</td>\n",
       "      <td>...</td>\n",
       "      <td>...</td>\n",
       "      <td>...</td>\n",
       "      <td>...</td>\n",
       "      <td>...</td>\n",
       "      <td>...</td>\n",
       "      <td>...</td>\n",
       "      <td>...</td>\n",
       "      <td>...</td>\n",
       "      <td>...</td>\n",
       "      <td>...</td>\n",
       "    </tr>\n",
       "    <tr>\n",
       "      <th>1715830</th>\n",
       "      <td>False</td>\n",
       "      <td>False</td>\n",
       "      <td>False</td>\n",
       "      <td>False</td>\n",
       "      <td>False</td>\n",
       "      <td>False</td>\n",
       "      <td>False</td>\n",
       "      <td>False</td>\n",
       "      <td>False</td>\n",
       "      <td>False</td>\n",
       "      <td>...</td>\n",
       "      <td>True</td>\n",
       "      <td>True</td>\n",
       "      <td>False</td>\n",
       "      <td>False</td>\n",
       "      <td>False</td>\n",
       "      <td>False</td>\n",
       "      <td>True</td>\n",
       "      <td>True</td>\n",
       "      <td>True</td>\n",
       "      <td>False</td>\n",
       "    </tr>\n",
       "    <tr>\n",
       "      <th>1715831</th>\n",
       "      <td>False</td>\n",
       "      <td>False</td>\n",
       "      <td>False</td>\n",
       "      <td>False</td>\n",
       "      <td>False</td>\n",
       "      <td>False</td>\n",
       "      <td>False</td>\n",
       "      <td>False</td>\n",
       "      <td>False</td>\n",
       "      <td>False</td>\n",
       "      <td>...</td>\n",
       "      <td>False</td>\n",
       "      <td>False</td>\n",
       "      <td>False</td>\n",
       "      <td>False</td>\n",
       "      <td>False</td>\n",
       "      <td>False</td>\n",
       "      <td>False</td>\n",
       "      <td>True</td>\n",
       "      <td>True</td>\n",
       "      <td>False</td>\n",
       "    </tr>\n",
       "    <tr>\n",
       "      <th>1715832</th>\n",
       "      <td>False</td>\n",
       "      <td>False</td>\n",
       "      <td>False</td>\n",
       "      <td>False</td>\n",
       "      <td>False</td>\n",
       "      <td>False</td>\n",
       "      <td>False</td>\n",
       "      <td>False</td>\n",
       "      <td>False</td>\n",
       "      <td>False</td>\n",
       "      <td>...</td>\n",
       "      <td>False</td>\n",
       "      <td>True</td>\n",
       "      <td>False</td>\n",
       "      <td>False</td>\n",
       "      <td>False</td>\n",
       "      <td>False</td>\n",
       "      <td>False</td>\n",
       "      <td>False</td>\n",
       "      <td>False</td>\n",
       "      <td>False</td>\n",
       "    </tr>\n",
       "    <tr>\n",
       "      <th>1715833</th>\n",
       "      <td>False</td>\n",
       "      <td>True</td>\n",
       "      <td>True</td>\n",
       "      <td>False</td>\n",
       "      <td>True</td>\n",
       "      <td>False</td>\n",
       "      <td>False</td>\n",
       "      <td>False</td>\n",
       "      <td>True</td>\n",
       "      <td>False</td>\n",
       "      <td>...</td>\n",
       "      <td>False</td>\n",
       "      <td>False</td>\n",
       "      <td>False</td>\n",
       "      <td>False</td>\n",
       "      <td>True</td>\n",
       "      <td>True</td>\n",
       "      <td>True</td>\n",
       "      <td>True</td>\n",
       "      <td>True</td>\n",
       "      <td>False</td>\n",
       "    </tr>\n",
       "    <tr>\n",
       "      <th>1715834</th>\n",
       "      <td>False</td>\n",
       "      <td>True</td>\n",
       "      <td>True</td>\n",
       "      <td>False</td>\n",
       "      <td>False</td>\n",
       "      <td>False</td>\n",
       "      <td>False</td>\n",
       "      <td>False</td>\n",
       "      <td>True</td>\n",
       "      <td>False</td>\n",
       "      <td>...</td>\n",
       "      <td>False</td>\n",
       "      <td>True</td>\n",
       "      <td>True</td>\n",
       "      <td>False</td>\n",
       "      <td>False</td>\n",
       "      <td>False</td>\n",
       "      <td>False</td>\n",
       "      <td>False</td>\n",
       "      <td>False</td>\n",
       "      <td>False</td>\n",
       "    </tr>\n",
       "  </tbody>\n",
       "</table>\n",
       "<p>1715835 rows × 32 columns</p>\n",
       "</div>"
      ],
      "text/plain": [
       "         NU_IDADE_N  NOSOCOMIAL  FEBRE  TOSSE  GARGANTA  DISPNEIA  DESC_RESP  \\\n",
       "0             False        True  False  False     False     False      False   \n",
       "1             False       False  False  False     False     False      False   \n",
       "2             False        True  False  False     False     False      False   \n",
       "3             False       False  False  False     False     False      False   \n",
       "4             False       False  False  False     False     False      False   \n",
       "...             ...         ...    ...    ...       ...       ...        ...   \n",
       "1715830       False       False  False  False     False     False      False   \n",
       "1715831       False       False  False  False     False     False      False   \n",
       "1715832       False       False  False  False     False     False      False   \n",
       "1715833       False        True   True  False      True     False      False   \n",
       "1715834       False        True   True  False     False     False      False   \n",
       "\n",
       "         SATURACAO  DIARREIA  FATOR_RISC  ...  CRITERIO  EVOLUCAO  ESTRANG  \\\n",
       "0            False     False       False  ...     False     False     True   \n",
       "1            False     False       False  ...     False     False     True   \n",
       "2            False     False       False  ...     False     False     True   \n",
       "3            False     False       False  ...     False     False     True   \n",
       "4            False     False       False  ...     False     False     True   \n",
       "...            ...       ...         ...  ...       ...       ...      ...   \n",
       "1715830      False     False       False  ...      True      True    False   \n",
       "1715831      False     False       False  ...     False     False    False   \n",
       "1715832      False     False       False  ...     False      True    False   \n",
       "1715833      False      True       False  ...     False     False    False   \n",
       "1715834      False      True       False  ...     False      True     True   \n",
       "\n",
       "         VACINA_COV  DOSE_1_COV  DOSE_2_COV  LAB_PR_COV  LOTE_1_COV  \\\n",
       "0              True        True        True        True        True   \n",
       "1              True        True        True        True        True   \n",
       "2              True        True        True        True        True   \n",
       "3              True        True        True        True        True   \n",
       "4              True        True        True        True        True   \n",
       "...             ...         ...         ...         ...         ...   \n",
       "1715830       False       False       False        True        True   \n",
       "1715831       False       False       False       False        True   \n",
       "1715832       False       False       False       False       False   \n",
       "1715833       False        True        True        True        True   \n",
       "1715834       False       False       False       False       False   \n",
       "\n",
       "         LOTE_2_COV  FNT_IN_COV  \n",
       "0              True        True  \n",
       "1              True        True  \n",
       "2              True        True  \n",
       "3              True        True  \n",
       "4              True        True  \n",
       "...             ...         ...  \n",
       "1715830        True       False  \n",
       "1715831        True       False  \n",
       "1715832       False       False  \n",
       "1715833        True       False  \n",
       "1715834       False       False  \n",
       "\n",
       "[1715835 rows x 32 columns]"
      ]
     },
     "execution_count": 9,
     "metadata": {},
     "output_type": "execute_result"
    }
   ],
   "source": [
    "falta = Dados2DF.isnull()\n",
    "falta"
   ]
  },
  {
   "cell_type": "code",
   "execution_count": 10,
   "metadata": {},
   "outputs": [
    {
     "name": "stdout",
     "output_type": "stream",
     "text": [
      "0          4.0\n",
      "1          5.0\n",
      "2          5.0\n",
      "3          4.0\n",
      "4          5.0\n",
      "          ... \n",
      "1715830    NaN\n",
      "1715831    1.0\n",
      "1715832    5.0\n",
      "1715833    5.0\n",
      "1715834    4.0\n",
      "Name: CLASSI_FIN, Length: 1715835, dtype: float64\n"
     ]
    }
   ],
   "source": [
    "# Classificaçao SRAG Final\n",
    "print(Dados2DF['CLASSI_FIN'])"
   ]
  },
  {
   "cell_type": "code",
   "execution_count": 11,
   "metadata": {},
   "outputs": [],
   "source": [
    "# - Remoção de casos de SRAG não diagnosticados como COVID-19;\n",
    "# ['CLASSI_FIN'] Diagnostico Final do Caso\n",
    "# 1-SRAG por influenza\n",
    "# 2-SRAG por outro vírus respiratório\n",
    "# 3-SRAG por outro agente etiológico, qual:\n",
    "# 4-SRAG não especificado\n",
    "# 5-SRAG por COVID-19\n",
    "\n",
    "Dados2DF = Dados2DF.loc[Dados2DF['CLASSI_FIN'] < 5]"
   ]
  },
  {
   "cell_type": "code",
   "execution_count": 12,
   "metadata": {},
   "outputs": [
    {
     "data": {
      "text/plain": [
       "(404131, 32)"
      ]
     },
     "execution_count": 12,
     "metadata": {},
     "output_type": "execute_result"
    }
   ],
   "source": [
    "Dados2DF.shape"
   ]
  },
  {
   "cell_type": "code",
   "execution_count": 13,
   "metadata": {},
   "outputs": [],
   "source": [
    "# tratando variaveis Na\n",
    "for val in Dados2DF:\n",
    "    Dados2DF[val] = Dados2DF[val].fillna(0)\n",
    "    Dados2DF[val] = Dados2DF[val].replace('S',1)\n",
    "    Dados2DF[val] = Dados2DF[val].replace('N',0)"
   ]
  },
  {
   "cell_type": "code",
   "execution_count": 14,
   "metadata": {},
   "outputs": [],
   "source": [
    "# Filtrando a tabela \n",
    "# como a coluna [EVOLUÇAO] trata , cura e obitos \n",
    "# 1 = cura e 2 = obito\n",
    "Dados2DF = Dados2DF.loc[DadosDF['EVOLUCAO'] < 3]"
   ]
  },
  {
   "cell_type": "code",
   "execution_count": 15,
   "metadata": {},
   "outputs": [
    {
     "name": "stdout",
     "output_type": "stream",
     "text": [
      "['NU_IDADE_N' 'NOSOCOMIAL' 'FEBRE' 'TOSSE' 'GARGANTA' 'DISPNEIA'\n",
      " 'DESC_RESP' 'SATURACAO' 'DIARREIA' 'FATOR_RISC' 'CARDIOPATI' 'HEMATOLOGI'\n",
      " 'HEPATICA' 'ASMA' 'DIABETES' 'PNEUMOPATI' 'IMUNODEPRE' 'RENAL'\n",
      " 'OBESIDADE' 'HOSPITAL' 'UTI' 'CLASSI_FIN' 'CRITERIO' 'EVOLUCAO' 'ESTRANG'\n",
      " 'VACINA_COV' 'DOSE_1_COV' 'DOSE_2_COV' 'LAB_PR_COV' 'LOTE_1_COV'\n",
      " 'LOTE_2_COV' 'FNT_IN_COV']\n"
     ]
    }
   ],
   "source": [
    "# visualiza todas as colunas\n",
    "print(Dados2DF.columns.values)"
   ]
  },
  {
   "cell_type": "code",
   "execution_count": 16,
   "metadata": {},
   "outputs": [
    {
     "data": {
      "text/plain": [
       "(335117, 32)"
      ]
     },
     "execution_count": 16,
     "metadata": {},
     "output_type": "execute_result"
    }
   ],
   "source": [
    "Dados2DF.shape"
   ]
  },
  {
   "cell_type": "code",
   "execution_count": 17,
   "metadata": {},
   "outputs": [],
   "source": [
    "# Seleção e tratamento de variáveis;\n",
    "\n",
    "# separando as variaveis entre preditoras e alvo\n",
    "# Variavel y é nosso alvo ['EVOLUCAO'] , pois obtem os casos de obitos e curas\n",
    "y = Dados2DF['EVOLUCAO']\n"
   ]
  },
  {
   "cell_type": "code",
   "execution_count": 18,
   "metadata": {},
   "outputs": [],
   "source": [
    "# drop exclui e 'axis' modifica so a coluna , deicxando a variavel x com o restante dos dados para as analises\n",
    "\n",
    "x = Dados2DF.drop(\"EVOLUCAO\", axis=1)"
   ]
  },
  {
   "cell_type": "code",
   "execution_count": 19,
   "metadata": {},
   "outputs": [],
   "source": [
    "# Treino de classificador para classificar entre “óbito por COVID-19” e “cura” (informação da coluna “EVOLUCAO”);\n",
    "\n",
    "# Importando funçao train_test_split\n",
    "from sklearn.model_selection import train_test_split"
   ]
  },
  {
   "cell_type": "code",
   "execution_count": 20,
   "metadata": {},
   "outputs": [],
   "source": [
    "# Essa funçao separa as variaveis entre teste e treino \n",
    "# teste_size = 0.3 igual a 30% sera para teste e 70% pra treino\n",
    "x_treino, x_teste, y_treino, y_teste = train_test_split(x,y, test_size = 0.3)"
   ]
  },
  {
   "cell_type": "code",
   "execution_count": 21,
   "metadata": {},
   "outputs": [],
   "source": [
    "# Funçao que faz a Classificaçao que trabalha com arvores de decisao\n",
    "from sklearn.ensemble import ExtraTreesClassifier\n",
    "# criaçao do modelo\n",
    "model = ExtraTreesClassifier()\n"
   ]
  },
  {
   "cell_type": "code",
   "execution_count": 22,
   "metadata": {},
   "outputs": [
    {
     "ename": "ValueError",
     "evalue": "could not convert string to float: '31/03/2021'",
     "output_type": "error",
     "traceback": [
      "\u001b[1;31m---------------------------------------------------------------------------\u001b[0m",
      "\u001b[1;31mValueError\u001b[0m                                Traceback (most recent call last)",
      "\u001b[1;32mc:\\Users\\jgmag\\OneDrive\\Área de Trabalho\\Programação\\IA\\Trabalho 2 - IA - Adiel Ferreira\\Ativ2-Classificador.ipynb Cell 23'\u001b[0m in \u001b[0;36m<cell line: 2>\u001b[1;34m()\u001b[0m\n\u001b[0;32m      <a href='vscode-notebook-cell:/c%3A/Users/jgmag/OneDrive/%C3%81rea%20de%20Trabalho/Programa%C3%A7%C3%A3o/IA/Trabalho%202%20-%20IA%20-%20Adiel%20Ferreira/Ativ2-Classificador.ipynb#ch0000022?line=0'>1</a>\u001b[0m \u001b[39m# fit() aplica o algoritmo machine learning nos dados (treino)\u001b[39;00m\n\u001b[1;32m----> <a href='vscode-notebook-cell:/c%3A/Users/jgmag/OneDrive/%C3%81rea%20de%20Trabalho/Programa%C3%A7%C3%A3o/IA/Trabalho%202%20-%20IA%20-%20Adiel%20Ferreira/Ativ2-Classificador.ipynb#ch0000022?line=1'>2</a>\u001b[0m model\u001b[39m.\u001b[39;49mfit(x_treino,y_treino)\n",
      "File \u001b[1;32m~\\AppData\\Local\\Programs\\Python\\Python310\\lib\\site-packages\\sklearn\\ensemble\\_forest.py:327\u001b[0m, in \u001b[0;36mBaseForest.fit\u001b[1;34m(self, X, y, sample_weight)\u001b[0m\n\u001b[0;32m    <a href='file:///~/AppData/Local/Programs/Python/Python310/lib/site-packages/sklearn/ensemble/_forest.py?line=324'>325</a>\u001b[0m \u001b[39mif\u001b[39;00m issparse(y):\n\u001b[0;32m    <a href='file:///~/AppData/Local/Programs/Python/Python310/lib/site-packages/sklearn/ensemble/_forest.py?line=325'>326</a>\u001b[0m     \u001b[39mraise\u001b[39;00m \u001b[39mValueError\u001b[39;00m(\u001b[39m\"\u001b[39m\u001b[39msparse multilabel-indicator for y is not supported.\u001b[39m\u001b[39m\"\u001b[39m)\n\u001b[1;32m--> <a href='file:///~/AppData/Local/Programs/Python/Python310/lib/site-packages/sklearn/ensemble/_forest.py?line=326'>327</a>\u001b[0m X, y \u001b[39m=\u001b[39m \u001b[39mself\u001b[39;49m\u001b[39m.\u001b[39;49m_validate_data(\n\u001b[0;32m    <a href='file:///~/AppData/Local/Programs/Python/Python310/lib/site-packages/sklearn/ensemble/_forest.py?line=327'>328</a>\u001b[0m     X, y, multi_output\u001b[39m=\u001b[39;49m\u001b[39mTrue\u001b[39;49;00m, accept_sparse\u001b[39m=\u001b[39;49m\u001b[39m\"\u001b[39;49m\u001b[39mcsc\u001b[39;49m\u001b[39m\"\u001b[39;49m, dtype\u001b[39m=\u001b[39;49mDTYPE\n\u001b[0;32m    <a href='file:///~/AppData/Local/Programs/Python/Python310/lib/site-packages/sklearn/ensemble/_forest.py?line=328'>329</a>\u001b[0m )\n\u001b[0;32m    <a href='file:///~/AppData/Local/Programs/Python/Python310/lib/site-packages/sklearn/ensemble/_forest.py?line=329'>330</a>\u001b[0m \u001b[39mif\u001b[39;00m sample_weight \u001b[39mis\u001b[39;00m \u001b[39mnot\u001b[39;00m \u001b[39mNone\u001b[39;00m:\n\u001b[0;32m    <a href='file:///~/AppData/Local/Programs/Python/Python310/lib/site-packages/sklearn/ensemble/_forest.py?line=330'>331</a>\u001b[0m     sample_weight \u001b[39m=\u001b[39m _check_sample_weight(sample_weight, X)\n",
      "File \u001b[1;32m~\\AppData\\Local\\Programs\\Python\\Python310\\lib\\site-packages\\sklearn\\base.py:581\u001b[0m, in \u001b[0;36mBaseEstimator._validate_data\u001b[1;34m(self, X, y, reset, validate_separately, **check_params)\u001b[0m\n\u001b[0;32m    <a href='file:///~/AppData/Local/Programs/Python/Python310/lib/site-packages/sklearn/base.py?line=578'>579</a>\u001b[0m         y \u001b[39m=\u001b[39m check_array(y, \u001b[39m*\u001b[39m\u001b[39m*\u001b[39mcheck_y_params)\n\u001b[0;32m    <a href='file:///~/AppData/Local/Programs/Python/Python310/lib/site-packages/sklearn/base.py?line=579'>580</a>\u001b[0m     \u001b[39melse\u001b[39;00m:\n\u001b[1;32m--> <a href='file:///~/AppData/Local/Programs/Python/Python310/lib/site-packages/sklearn/base.py?line=580'>581</a>\u001b[0m         X, y \u001b[39m=\u001b[39m check_X_y(X, y, \u001b[39m*\u001b[39m\u001b[39m*\u001b[39mcheck_params)\n\u001b[0;32m    <a href='file:///~/AppData/Local/Programs/Python/Python310/lib/site-packages/sklearn/base.py?line=581'>582</a>\u001b[0m     out \u001b[39m=\u001b[39m X, y\n\u001b[0;32m    <a href='file:///~/AppData/Local/Programs/Python/Python310/lib/site-packages/sklearn/base.py?line=583'>584</a>\u001b[0m \u001b[39mif\u001b[39;00m \u001b[39mnot\u001b[39;00m no_val_X \u001b[39mand\u001b[39;00m check_params\u001b[39m.\u001b[39mget(\u001b[39m\"\u001b[39m\u001b[39mensure_2d\u001b[39m\u001b[39m\"\u001b[39m, \u001b[39mTrue\u001b[39;00m):\n",
      "File \u001b[1;32m~\\AppData\\Local\\Programs\\Python\\Python310\\lib\\site-packages\\sklearn\\utils\\validation.py:964\u001b[0m, in \u001b[0;36mcheck_X_y\u001b[1;34m(X, y, accept_sparse, accept_large_sparse, dtype, order, copy, force_all_finite, ensure_2d, allow_nd, multi_output, ensure_min_samples, ensure_min_features, y_numeric, estimator)\u001b[0m\n\u001b[0;32m    <a href='file:///~/AppData/Local/Programs/Python/Python310/lib/site-packages/sklearn/utils/validation.py?line=960'>961</a>\u001b[0m \u001b[39mif\u001b[39;00m y \u001b[39mis\u001b[39;00m \u001b[39mNone\u001b[39;00m:\n\u001b[0;32m    <a href='file:///~/AppData/Local/Programs/Python/Python310/lib/site-packages/sklearn/utils/validation.py?line=961'>962</a>\u001b[0m     \u001b[39mraise\u001b[39;00m \u001b[39mValueError\u001b[39;00m(\u001b[39m\"\u001b[39m\u001b[39my cannot be None\u001b[39m\u001b[39m\"\u001b[39m)\n\u001b[1;32m--> <a href='file:///~/AppData/Local/Programs/Python/Python310/lib/site-packages/sklearn/utils/validation.py?line=963'>964</a>\u001b[0m X \u001b[39m=\u001b[39m check_array(\n\u001b[0;32m    <a href='file:///~/AppData/Local/Programs/Python/Python310/lib/site-packages/sklearn/utils/validation.py?line=964'>965</a>\u001b[0m     X,\n\u001b[0;32m    <a href='file:///~/AppData/Local/Programs/Python/Python310/lib/site-packages/sklearn/utils/validation.py?line=965'>966</a>\u001b[0m     accept_sparse\u001b[39m=\u001b[39;49maccept_sparse,\n\u001b[0;32m    <a href='file:///~/AppData/Local/Programs/Python/Python310/lib/site-packages/sklearn/utils/validation.py?line=966'>967</a>\u001b[0m     accept_large_sparse\u001b[39m=\u001b[39;49maccept_large_sparse,\n\u001b[0;32m    <a href='file:///~/AppData/Local/Programs/Python/Python310/lib/site-packages/sklearn/utils/validation.py?line=967'>968</a>\u001b[0m     dtype\u001b[39m=\u001b[39;49mdtype,\n\u001b[0;32m    <a href='file:///~/AppData/Local/Programs/Python/Python310/lib/site-packages/sklearn/utils/validation.py?line=968'>969</a>\u001b[0m     order\u001b[39m=\u001b[39;49morder,\n\u001b[0;32m    <a href='file:///~/AppData/Local/Programs/Python/Python310/lib/site-packages/sklearn/utils/validation.py?line=969'>970</a>\u001b[0m     copy\u001b[39m=\u001b[39;49mcopy,\n\u001b[0;32m    <a href='file:///~/AppData/Local/Programs/Python/Python310/lib/site-packages/sklearn/utils/validation.py?line=970'>971</a>\u001b[0m     force_all_finite\u001b[39m=\u001b[39;49mforce_all_finite,\n\u001b[0;32m    <a href='file:///~/AppData/Local/Programs/Python/Python310/lib/site-packages/sklearn/utils/validation.py?line=971'>972</a>\u001b[0m     ensure_2d\u001b[39m=\u001b[39;49mensure_2d,\n\u001b[0;32m    <a href='file:///~/AppData/Local/Programs/Python/Python310/lib/site-packages/sklearn/utils/validation.py?line=972'>973</a>\u001b[0m     allow_nd\u001b[39m=\u001b[39;49mallow_nd,\n\u001b[0;32m    <a href='file:///~/AppData/Local/Programs/Python/Python310/lib/site-packages/sklearn/utils/validation.py?line=973'>974</a>\u001b[0m     ensure_min_samples\u001b[39m=\u001b[39;49mensure_min_samples,\n\u001b[0;32m    <a href='file:///~/AppData/Local/Programs/Python/Python310/lib/site-packages/sklearn/utils/validation.py?line=974'>975</a>\u001b[0m     ensure_min_features\u001b[39m=\u001b[39;49mensure_min_features,\n\u001b[0;32m    <a href='file:///~/AppData/Local/Programs/Python/Python310/lib/site-packages/sklearn/utils/validation.py?line=975'>976</a>\u001b[0m     estimator\u001b[39m=\u001b[39;49mestimator,\n\u001b[0;32m    <a href='file:///~/AppData/Local/Programs/Python/Python310/lib/site-packages/sklearn/utils/validation.py?line=976'>977</a>\u001b[0m )\n\u001b[0;32m    <a href='file:///~/AppData/Local/Programs/Python/Python310/lib/site-packages/sklearn/utils/validation.py?line=978'>979</a>\u001b[0m y \u001b[39m=\u001b[39m _check_y(y, multi_output\u001b[39m=\u001b[39mmulti_output, y_numeric\u001b[39m=\u001b[39my_numeric)\n\u001b[0;32m    <a href='file:///~/AppData/Local/Programs/Python/Python310/lib/site-packages/sklearn/utils/validation.py?line=980'>981</a>\u001b[0m check_consistent_length(X, y)\n",
      "File \u001b[1;32m~\\AppData\\Local\\Programs\\Python\\Python310\\lib\\site-packages\\sklearn\\utils\\validation.py:746\u001b[0m, in \u001b[0;36mcheck_array\u001b[1;34m(array, accept_sparse, accept_large_sparse, dtype, order, copy, force_all_finite, ensure_2d, allow_nd, ensure_min_samples, ensure_min_features, estimator)\u001b[0m\n\u001b[0;32m    <a href='file:///~/AppData/Local/Programs/Python/Python310/lib/site-packages/sklearn/utils/validation.py?line=743'>744</a>\u001b[0m         array \u001b[39m=\u001b[39m array\u001b[39m.\u001b[39mastype(dtype, casting\u001b[39m=\u001b[39m\u001b[39m\"\u001b[39m\u001b[39munsafe\u001b[39m\u001b[39m\"\u001b[39m, copy\u001b[39m=\u001b[39m\u001b[39mFalse\u001b[39;00m)\n\u001b[0;32m    <a href='file:///~/AppData/Local/Programs/Python/Python310/lib/site-packages/sklearn/utils/validation.py?line=744'>745</a>\u001b[0m     \u001b[39melse\u001b[39;00m:\n\u001b[1;32m--> <a href='file:///~/AppData/Local/Programs/Python/Python310/lib/site-packages/sklearn/utils/validation.py?line=745'>746</a>\u001b[0m         array \u001b[39m=\u001b[39m np\u001b[39m.\u001b[39;49masarray(array, order\u001b[39m=\u001b[39;49morder, dtype\u001b[39m=\u001b[39;49mdtype)\n\u001b[0;32m    <a href='file:///~/AppData/Local/Programs/Python/Python310/lib/site-packages/sklearn/utils/validation.py?line=746'>747</a>\u001b[0m \u001b[39mexcept\u001b[39;00m ComplexWarning \u001b[39mas\u001b[39;00m complex_warning:\n\u001b[0;32m    <a href='file:///~/AppData/Local/Programs/Python/Python310/lib/site-packages/sklearn/utils/validation.py?line=747'>748</a>\u001b[0m     \u001b[39mraise\u001b[39;00m \u001b[39mValueError\u001b[39;00m(\n\u001b[0;32m    <a href='file:///~/AppData/Local/Programs/Python/Python310/lib/site-packages/sklearn/utils/validation.py?line=748'>749</a>\u001b[0m         \u001b[39m\"\u001b[39m\u001b[39mComplex data not supported\u001b[39m\u001b[39m\\n\u001b[39;00m\u001b[39m{}\u001b[39;00m\u001b[39m\\n\u001b[39;00m\u001b[39m\"\u001b[39m\u001b[39m.\u001b[39mformat(array)\n\u001b[0;32m    <a href='file:///~/AppData/Local/Programs/Python/Python310/lib/site-packages/sklearn/utils/validation.py?line=749'>750</a>\u001b[0m     ) \u001b[39mfrom\u001b[39;00m \u001b[39mcomplex_warning\u001b[39;00m\n",
      "File \u001b[1;32m~\\AppData\\Local\\Programs\\Python\\Python310\\lib\\site-packages\\pandas\\core\\generic.py:2072\u001b[0m, in \u001b[0;36mNDFrame.__array__\u001b[1;34m(self, dtype)\u001b[0m\n\u001b[0;32m   <a href='file:///~/AppData/Local/Programs/Python/Python310/lib/site-packages/pandas/core/generic.py?line=2070'>2071</a>\u001b[0m \u001b[39mdef\u001b[39;00m \u001b[39m__array__\u001b[39m(\u001b[39mself\u001b[39m, dtype: npt\u001b[39m.\u001b[39mDTypeLike \u001b[39m|\u001b[39m \u001b[39mNone\u001b[39;00m \u001b[39m=\u001b[39m \u001b[39mNone\u001b[39;00m) \u001b[39m-\u001b[39m\u001b[39m>\u001b[39m np\u001b[39m.\u001b[39mndarray:\n\u001b[1;32m-> <a href='file:///~/AppData/Local/Programs/Python/Python310/lib/site-packages/pandas/core/generic.py?line=2071'>2072</a>\u001b[0m     \u001b[39mreturn\u001b[39;00m np\u001b[39m.\u001b[39;49masarray(\u001b[39mself\u001b[39;49m\u001b[39m.\u001b[39;49m_values, dtype\u001b[39m=\u001b[39;49mdtype)\n",
      "\u001b[1;31mValueError\u001b[0m: could not convert string to float: '31/03/2021'"
     ]
    }
   ],
   "source": [
    "# fit() aplica o algoritmo machine learning nos dados (treino)\n",
    "model.fit(x_treino,y_treino)"
   ]
  },
  {
   "cell_type": "code",
   "execution_count": 29,
   "metadata": {},
   "outputs": [
    {
     "ename": "ValueError",
     "evalue": "could not convert string to float: '15/06/2021'",
     "output_type": "error",
     "traceback": [
      "\u001b[1;31m---------------------------------------------------------------------------\u001b[0m",
      "\u001b[1;31mValueError\u001b[0m                                Traceback (most recent call last)",
      "\u001b[1;32mc:\\Users\\jgmag\\OneDrive\\Área de Trabalho\\Programação\\IA\\Trabalho 2 - IA - Adiel Ferreira\\Ativ2-Classificador.ipynb Cell 24'\u001b[0m in \u001b[0;36m<cell line: 7>\u001b[1;34m()\u001b[0m\n\u001b[0;32m      <a href='vscode-notebook-cell:/c%3A/Users/jgmag/OneDrive/%C3%81rea%20de%20Trabalho/Programa%C3%A7%C3%A3o/IA/Trabalho%202%20-%20IA%20-%20Adiel%20Ferreira/Ativ2-Classificador.ipynb#ch0000023?line=0'>1</a>\u001b[0m \u001b[39m# Avaliar classificador e reportar a acurácia geral e por classe em conjunto de teste.\u001b[39;00m\n\u001b[0;32m      <a href='vscode-notebook-cell:/c%3A/Users/jgmag/OneDrive/%C3%81rea%20de%20Trabalho/Programa%C3%A7%C3%A3o/IA/Trabalho%202%20-%20IA%20-%20Adiel%20Ferreira/Ativ2-Classificador.ipynb#ch0000023?line=1'>2</a>\u001b[0m \n\u001b[0;32m      <a href='vscode-notebook-cell:/c%3A/Users/jgmag/OneDrive/%C3%81rea%20de%20Trabalho/Programa%C3%A7%C3%A3o/IA/Trabalho%202%20-%20IA%20-%20Adiel%20Ferreira/Ativ2-Classificador.ipynb#ch0000023?line=2'>3</a>\u001b[0m \u001b[39m# Imprimindo rsultado\u001b[39;00m\n\u001b[0;32m      <a href='vscode-notebook-cell:/c%3A/Users/jgmag/OneDrive/%C3%81rea%20de%20Trabalho/Programa%C3%A7%C3%A3o/IA/Trabalho%202%20-%20IA%20-%20Adiel%20Ferreira/Ativ2-Classificador.ipynb#ch0000023?line=3'>4</a>\u001b[0m \u001b[39m# Funçao score compara os algoritmos de teste(que sao os dados reais)\u001b[39;00m\n\u001b[0;32m      <a href='vscode-notebook-cell:/c%3A/Users/jgmag/OneDrive/%C3%81rea%20de%20Trabalho/Programa%C3%A7%C3%A3o/IA/Trabalho%202%20-%20IA%20-%20Adiel%20Ferreira/Ativ2-Classificador.ipynb#ch0000023?line=4'>5</a>\u001b[0m \u001b[39m# Vai tentar fazer a previsao em cima de cada variavel\u001b[39;00m\n\u001b[1;32m----> <a href='vscode-notebook-cell:/c%3A/Users/jgmag/OneDrive/%C3%81rea%20de%20Trabalho/Programa%C3%A7%C3%A3o/IA/Trabalho%202%20-%20IA%20-%20Adiel%20Ferreira/Ativ2-Classificador.ipynb#ch0000023?line=6'>7</a>\u001b[0m resultado \u001b[39m=\u001b[39m model\u001b[39m.\u001b[39;49mscore(x_teste, y_teste)\n\u001b[0;32m      <a href='vscode-notebook-cell:/c%3A/Users/jgmag/OneDrive/%C3%81rea%20de%20Trabalho/Programa%C3%A7%C3%A3o/IA/Trabalho%202%20-%20IA%20-%20Adiel%20Ferreira/Ativ2-Classificador.ipynb#ch0000023?line=7'>8</a>\u001b[0m \u001b[39mprint\u001b[39m(\u001b[39m'\u001b[39m\u001b[39mAcuracia: \u001b[39m\u001b[39m%.2f\u001b[39;00m\u001b[39m'\u001b[39m \u001b[39m%\u001b[39m \u001b[39mround\u001b[39m(resultado,\u001b[39m2\u001b[39m),\u001b[39m'\u001b[39m\u001b[39m%\u001b[39m\u001b[39m \u001b[39m\u001b[39m\\n\u001b[39;00m\u001b[39m'\u001b[39m)\n",
      "File \u001b[1;32m~\\AppData\\Local\\Programs\\Python\\Python310\\lib\\site-packages\\sklearn\\base.py:651\u001b[0m, in \u001b[0;36mClassifierMixin.score\u001b[1;34m(self, X, y, sample_weight)\u001b[0m\n\u001b[0;32m    <a href='file:///~/AppData/Local/Programs/Python/Python310/lib/site-packages/sklearn/base.py?line=625'>626</a>\u001b[0m \u001b[39m\"\"\"\u001b[39;00m\n\u001b[0;32m    <a href='file:///~/AppData/Local/Programs/Python/Python310/lib/site-packages/sklearn/base.py?line=626'>627</a>\u001b[0m \u001b[39mReturn the mean accuracy on the given test data and labels.\u001b[39;00m\n\u001b[0;32m    <a href='file:///~/AppData/Local/Programs/Python/Python310/lib/site-packages/sklearn/base.py?line=627'>628</a>\u001b[0m \n\u001b[1;32m   (...)\u001b[0m\n\u001b[0;32m    <a href='file:///~/AppData/Local/Programs/Python/Python310/lib/site-packages/sklearn/base.py?line=646'>647</a>\u001b[0m \u001b[39m    Mean accuracy of ``self.predict(X)`` wrt. `y`.\u001b[39;00m\n\u001b[0;32m    <a href='file:///~/AppData/Local/Programs/Python/Python310/lib/site-packages/sklearn/base.py?line=647'>648</a>\u001b[0m \u001b[39m\"\"\"\u001b[39;00m\n\u001b[0;32m    <a href='file:///~/AppData/Local/Programs/Python/Python310/lib/site-packages/sklearn/base.py?line=648'>649</a>\u001b[0m \u001b[39mfrom\u001b[39;00m \u001b[39m.\u001b[39;00m\u001b[39mmetrics\u001b[39;00m \u001b[39mimport\u001b[39;00m accuracy_score\n\u001b[1;32m--> <a href='file:///~/AppData/Local/Programs/Python/Python310/lib/site-packages/sklearn/base.py?line=650'>651</a>\u001b[0m \u001b[39mreturn\u001b[39;00m accuracy_score(y, \u001b[39mself\u001b[39;49m\u001b[39m.\u001b[39;49mpredict(X), sample_weight\u001b[39m=\u001b[39msample_weight)\n",
      "File \u001b[1;32m~\\AppData\\Local\\Programs\\Python\\Python310\\lib\\site-packages\\sklearn\\ensemble\\_forest.py:808\u001b[0m, in \u001b[0;36mForestClassifier.predict\u001b[1;34m(self, X)\u001b[0m\n\u001b[0;32m    <a href='file:///~/AppData/Local/Programs/Python/Python310/lib/site-packages/sklearn/ensemble/_forest.py?line=786'>787</a>\u001b[0m \u001b[39mdef\u001b[39;00m \u001b[39mpredict\u001b[39m(\u001b[39mself\u001b[39m, X):\n\u001b[0;32m    <a href='file:///~/AppData/Local/Programs/Python/Python310/lib/site-packages/sklearn/ensemble/_forest.py?line=787'>788</a>\u001b[0m     \u001b[39m\"\"\"\u001b[39;00m\n\u001b[0;32m    <a href='file:///~/AppData/Local/Programs/Python/Python310/lib/site-packages/sklearn/ensemble/_forest.py?line=788'>789</a>\u001b[0m \u001b[39m    Predict class for X.\u001b[39;00m\n\u001b[0;32m    <a href='file:///~/AppData/Local/Programs/Python/Python310/lib/site-packages/sklearn/ensemble/_forest.py?line=789'>790</a>\u001b[0m \n\u001b[1;32m   (...)\u001b[0m\n\u001b[0;32m    <a href='file:///~/AppData/Local/Programs/Python/Python310/lib/site-packages/sklearn/ensemble/_forest.py?line=805'>806</a>\u001b[0m \u001b[39m        The predicted classes.\u001b[39;00m\n\u001b[0;32m    <a href='file:///~/AppData/Local/Programs/Python/Python310/lib/site-packages/sklearn/ensemble/_forest.py?line=806'>807</a>\u001b[0m \u001b[39m    \"\"\"\u001b[39;00m\n\u001b[1;32m--> <a href='file:///~/AppData/Local/Programs/Python/Python310/lib/site-packages/sklearn/ensemble/_forest.py?line=807'>808</a>\u001b[0m     proba \u001b[39m=\u001b[39m \u001b[39mself\u001b[39;49m\u001b[39m.\u001b[39;49mpredict_proba(X)\n\u001b[0;32m    <a href='file:///~/AppData/Local/Programs/Python/Python310/lib/site-packages/sklearn/ensemble/_forest.py?line=809'>810</a>\u001b[0m     \u001b[39mif\u001b[39;00m \u001b[39mself\u001b[39m\u001b[39m.\u001b[39mn_outputs_ \u001b[39m==\u001b[39m \u001b[39m1\u001b[39m:\n\u001b[0;32m    <a href='file:///~/AppData/Local/Programs/Python/Python310/lib/site-packages/sklearn/ensemble/_forest.py?line=810'>811</a>\u001b[0m         \u001b[39mreturn\u001b[39;00m \u001b[39mself\u001b[39m\u001b[39m.\u001b[39mclasses_\u001b[39m.\u001b[39mtake(np\u001b[39m.\u001b[39margmax(proba, axis\u001b[39m=\u001b[39m\u001b[39m1\u001b[39m), axis\u001b[39m=\u001b[39m\u001b[39m0\u001b[39m)\n",
      "File \u001b[1;32m~\\AppData\\Local\\Programs\\Python\\Python310\\lib\\site-packages\\sklearn\\ensemble\\_forest.py:850\u001b[0m, in \u001b[0;36mForestClassifier.predict_proba\u001b[1;34m(self, X)\u001b[0m\n\u001b[0;32m    <a href='file:///~/AppData/Local/Programs/Python/Python310/lib/site-packages/sklearn/ensemble/_forest.py?line=847'>848</a>\u001b[0m check_is_fitted(\u001b[39mself\u001b[39m)\n\u001b[0;32m    <a href='file:///~/AppData/Local/Programs/Python/Python310/lib/site-packages/sklearn/ensemble/_forest.py?line=848'>849</a>\u001b[0m \u001b[39m# Check data\u001b[39;00m\n\u001b[1;32m--> <a href='file:///~/AppData/Local/Programs/Python/Python310/lib/site-packages/sklearn/ensemble/_forest.py?line=849'>850</a>\u001b[0m X \u001b[39m=\u001b[39m \u001b[39mself\u001b[39;49m\u001b[39m.\u001b[39;49m_validate_X_predict(X)\n\u001b[0;32m    <a href='file:///~/AppData/Local/Programs/Python/Python310/lib/site-packages/sklearn/ensemble/_forest.py?line=851'>852</a>\u001b[0m \u001b[39m# Assign chunk of trees to jobs\u001b[39;00m\n\u001b[0;32m    <a href='file:///~/AppData/Local/Programs/Python/Python310/lib/site-packages/sklearn/ensemble/_forest.py?line=852'>853</a>\u001b[0m n_jobs, _, _ \u001b[39m=\u001b[39m _partition_estimators(\u001b[39mself\u001b[39m\u001b[39m.\u001b[39mn_estimators, \u001b[39mself\u001b[39m\u001b[39m.\u001b[39mn_jobs)\n",
      "File \u001b[1;32m~\\AppData\\Local\\Programs\\Python\\Python310\\lib\\site-packages\\sklearn\\ensemble\\_forest.py:579\u001b[0m, in \u001b[0;36mBaseForest._validate_X_predict\u001b[1;34m(self, X)\u001b[0m\n\u001b[0;32m    <a href='file:///~/AppData/Local/Programs/Python/Python310/lib/site-packages/sklearn/ensemble/_forest.py?line=575'>576</a>\u001b[0m \u001b[39m\"\"\"\u001b[39;00m\n\u001b[0;32m    <a href='file:///~/AppData/Local/Programs/Python/Python310/lib/site-packages/sklearn/ensemble/_forest.py?line=576'>577</a>\u001b[0m \u001b[39mValidate X whenever one tries to predict, apply, predict_proba.\"\"\"\u001b[39;00m\n\u001b[0;32m    <a href='file:///~/AppData/Local/Programs/Python/Python310/lib/site-packages/sklearn/ensemble/_forest.py?line=577'>578</a>\u001b[0m check_is_fitted(\u001b[39mself\u001b[39m)\n\u001b[1;32m--> <a href='file:///~/AppData/Local/Programs/Python/Python310/lib/site-packages/sklearn/ensemble/_forest.py?line=578'>579</a>\u001b[0m X \u001b[39m=\u001b[39m \u001b[39mself\u001b[39;49m\u001b[39m.\u001b[39;49m_validate_data(X, dtype\u001b[39m=\u001b[39;49mDTYPE, accept_sparse\u001b[39m=\u001b[39;49m\u001b[39m\"\u001b[39;49m\u001b[39mcsr\u001b[39;49m\u001b[39m\"\u001b[39;49m, reset\u001b[39m=\u001b[39;49m\u001b[39mFalse\u001b[39;49;00m)\n\u001b[0;32m    <a href='file:///~/AppData/Local/Programs/Python/Python310/lib/site-packages/sklearn/ensemble/_forest.py?line=579'>580</a>\u001b[0m \u001b[39mif\u001b[39;00m issparse(X) \u001b[39mand\u001b[39;00m (X\u001b[39m.\u001b[39mindices\u001b[39m.\u001b[39mdtype \u001b[39m!=\u001b[39m np\u001b[39m.\u001b[39mintc \u001b[39mor\u001b[39;00m X\u001b[39m.\u001b[39mindptr\u001b[39m.\u001b[39mdtype \u001b[39m!=\u001b[39m np\u001b[39m.\u001b[39mintc):\n\u001b[0;32m    <a href='file:///~/AppData/Local/Programs/Python/Python310/lib/site-packages/sklearn/ensemble/_forest.py?line=580'>581</a>\u001b[0m     \u001b[39mraise\u001b[39;00m \u001b[39mValueError\u001b[39;00m(\u001b[39m\"\u001b[39m\u001b[39mNo support for np.int64 index based sparse matrices\u001b[39m\u001b[39m\"\u001b[39m)\n",
      "File \u001b[1;32m~\\AppData\\Local\\Programs\\Python\\Python310\\lib\\site-packages\\sklearn\\base.py:566\u001b[0m, in \u001b[0;36mBaseEstimator._validate_data\u001b[1;34m(self, X, y, reset, validate_separately, **check_params)\u001b[0m\n\u001b[0;32m    <a href='file:///~/AppData/Local/Programs/Python/Python310/lib/site-packages/sklearn/base.py?line=563'>564</a>\u001b[0m     \u001b[39mraise\u001b[39;00m \u001b[39mValueError\u001b[39;00m(\u001b[39m\"\u001b[39m\u001b[39mValidation should be done on X, y or both.\u001b[39m\u001b[39m\"\u001b[39m)\n\u001b[0;32m    <a href='file:///~/AppData/Local/Programs/Python/Python310/lib/site-packages/sklearn/base.py?line=564'>565</a>\u001b[0m \u001b[39melif\u001b[39;00m \u001b[39mnot\u001b[39;00m no_val_X \u001b[39mand\u001b[39;00m no_val_y:\n\u001b[1;32m--> <a href='file:///~/AppData/Local/Programs/Python/Python310/lib/site-packages/sklearn/base.py?line=565'>566</a>\u001b[0m     X \u001b[39m=\u001b[39m check_array(X, \u001b[39m*\u001b[39m\u001b[39m*\u001b[39mcheck_params)\n\u001b[0;32m    <a href='file:///~/AppData/Local/Programs/Python/Python310/lib/site-packages/sklearn/base.py?line=566'>567</a>\u001b[0m     out \u001b[39m=\u001b[39m X\n\u001b[0;32m    <a href='file:///~/AppData/Local/Programs/Python/Python310/lib/site-packages/sklearn/base.py?line=567'>568</a>\u001b[0m \u001b[39melif\u001b[39;00m no_val_X \u001b[39mand\u001b[39;00m \u001b[39mnot\u001b[39;00m no_val_y:\n",
      "File \u001b[1;32m~\\AppData\\Local\\Programs\\Python\\Python310\\lib\\site-packages\\sklearn\\utils\\validation.py:746\u001b[0m, in \u001b[0;36mcheck_array\u001b[1;34m(array, accept_sparse, accept_large_sparse, dtype, order, copy, force_all_finite, ensure_2d, allow_nd, ensure_min_samples, ensure_min_features, estimator)\u001b[0m\n\u001b[0;32m    <a href='file:///~/AppData/Local/Programs/Python/Python310/lib/site-packages/sklearn/utils/validation.py?line=743'>744</a>\u001b[0m         array \u001b[39m=\u001b[39m array\u001b[39m.\u001b[39mastype(dtype, casting\u001b[39m=\u001b[39m\u001b[39m\"\u001b[39m\u001b[39munsafe\u001b[39m\u001b[39m\"\u001b[39m, copy\u001b[39m=\u001b[39m\u001b[39mFalse\u001b[39;00m)\n\u001b[0;32m    <a href='file:///~/AppData/Local/Programs/Python/Python310/lib/site-packages/sklearn/utils/validation.py?line=744'>745</a>\u001b[0m     \u001b[39melse\u001b[39;00m:\n\u001b[1;32m--> <a href='file:///~/AppData/Local/Programs/Python/Python310/lib/site-packages/sklearn/utils/validation.py?line=745'>746</a>\u001b[0m         array \u001b[39m=\u001b[39m np\u001b[39m.\u001b[39;49masarray(array, order\u001b[39m=\u001b[39;49morder, dtype\u001b[39m=\u001b[39;49mdtype)\n\u001b[0;32m    <a href='file:///~/AppData/Local/Programs/Python/Python310/lib/site-packages/sklearn/utils/validation.py?line=746'>747</a>\u001b[0m \u001b[39mexcept\u001b[39;00m ComplexWarning \u001b[39mas\u001b[39;00m complex_warning:\n\u001b[0;32m    <a href='file:///~/AppData/Local/Programs/Python/Python310/lib/site-packages/sklearn/utils/validation.py?line=747'>748</a>\u001b[0m     \u001b[39mraise\u001b[39;00m \u001b[39mValueError\u001b[39;00m(\n\u001b[0;32m    <a href='file:///~/AppData/Local/Programs/Python/Python310/lib/site-packages/sklearn/utils/validation.py?line=748'>749</a>\u001b[0m         \u001b[39m\"\u001b[39m\u001b[39mComplex data not supported\u001b[39m\u001b[39m\\n\u001b[39;00m\u001b[39m{}\u001b[39;00m\u001b[39m\\n\u001b[39;00m\u001b[39m\"\u001b[39m\u001b[39m.\u001b[39mformat(array)\n\u001b[0;32m    <a href='file:///~/AppData/Local/Programs/Python/Python310/lib/site-packages/sklearn/utils/validation.py?line=749'>750</a>\u001b[0m     ) \u001b[39mfrom\u001b[39;00m \u001b[39mcomplex_warning\u001b[39;00m\n",
      "File \u001b[1;32m~\\AppData\\Local\\Programs\\Python\\Python310\\lib\\site-packages\\pandas\\core\\generic.py:2072\u001b[0m, in \u001b[0;36mNDFrame.__array__\u001b[1;34m(self, dtype)\u001b[0m\n\u001b[0;32m   <a href='file:///~/AppData/Local/Programs/Python/Python310/lib/site-packages/pandas/core/generic.py?line=2070'>2071</a>\u001b[0m \u001b[39mdef\u001b[39;00m \u001b[39m__array__\u001b[39m(\u001b[39mself\u001b[39m, dtype: npt\u001b[39m.\u001b[39mDTypeLike \u001b[39m|\u001b[39m \u001b[39mNone\u001b[39;00m \u001b[39m=\u001b[39m \u001b[39mNone\u001b[39;00m) \u001b[39m-\u001b[39m\u001b[39m>\u001b[39m np\u001b[39m.\u001b[39mndarray:\n\u001b[1;32m-> <a href='file:///~/AppData/Local/Programs/Python/Python310/lib/site-packages/pandas/core/generic.py?line=2071'>2072</a>\u001b[0m     \u001b[39mreturn\u001b[39;00m np\u001b[39m.\u001b[39;49masarray(\u001b[39mself\u001b[39;49m\u001b[39m.\u001b[39;49m_values, dtype\u001b[39m=\u001b[39;49mdtype)\n",
      "\u001b[1;31mValueError\u001b[0m: could not convert string to float: '15/06/2021'"
     ]
    }
   ],
   "source": [
    "\n",
    "# Avaliar classificador e reportar a acurácia geral e por classe em conjunto de teste.\n",
    "\n",
    "# Imprimindo rsultado\n",
    "# Funçao score compara os algoritmos de teste(que sao os dados reais)\n",
    "# Vai tentar fazer a previsao em cima de cada variavel\n",
    "\n",
    "resultado = model.score(x_teste, y_teste)\n",
    "print('Acuracia: %.2f' % round(resultado,2),'% \\n')"
   ]
  },
  {
   "cell_type": "code",
   "execution_count": 30,
   "metadata": {},
   "outputs": [],
   "source": [
    "# Acuracia por Classe \n",
    "from sklearn.metrics import confusion_matrix"
   ]
  },
  {
   "cell_type": "code",
   "execution_count": 31,
   "metadata": {},
   "outputs": [
    {
     "ename": "NameError",
     "evalue": "name 'modelo' is not defined",
     "output_type": "error",
     "traceback": [
      "\u001b[1;31m---------------------------------------------------------------------------\u001b[0m",
      "\u001b[1;31mNameError\u001b[0m                                 Traceback (most recent call last)",
      "\u001b[1;32mc:\\Users\\jgmag\\OneDrive\\Área de Trabalho\\Programação\\IA\\Trabalho 2 - IA - Adiel Ferreira\\Ativ2-Classificador.ipynb Cell 26'\u001b[0m in \u001b[0;36m<cell line: 1>\u001b[1;34m()\u001b[0m\n\u001b[1;32m----> <a href='vscode-notebook-cell:/c%3A/Users/jgmag/OneDrive/%C3%81rea%20de%20Trabalho/Programa%C3%A7%C3%A3o/IA/Trabalho%202%20-%20IA%20-%20Adiel%20Ferreira/Ativ2-Classificador.ipynb#ch0000025?line=0'>1</a>\u001b[0m y_predi \u001b[39m=\u001b[39m modelo\u001b[39m.\u001b[39mpredict(x_teste)\n",
      "\u001b[1;31mNameError\u001b[0m: name 'modelo' is not defined"
     ]
    }
   ],
   "source": [
    "y_predi = modelo.predict(x_teste)"
   ]
  },
  {
   "cell_type": "code",
   "execution_count": 32,
   "metadata": {},
   "outputs": [
    {
     "ename": "NameError",
     "evalue": "name 'y_predi' is not defined",
     "output_type": "error",
     "traceback": [
      "\u001b[1;31m---------------------------------------------------------------------------\u001b[0m",
      "\u001b[1;31mNameError\u001b[0m                                 Traceback (most recent call last)",
      "\u001b[1;32mc:\\Users\\jgmag\\OneDrive\\Área de Trabalho\\Programação\\IA\\Trabalho 2 - IA - Adiel Ferreira\\Ativ2-Classificador.ipynb Cell 27'\u001b[0m in \u001b[0;36m<cell line: 1>\u001b[1;34m()\u001b[0m\n\u001b[1;32m----> <a href='vscode-notebook-cell:/c%3A/Users/jgmag/OneDrive/%C3%81rea%20de%20Trabalho/Programa%C3%A7%C3%A3o/IA/Trabalho%202%20-%20IA%20-%20Adiel%20Ferreira/Ativ2-Classificador.ipynb#ch0000026?line=0'>1</a>\u001b[0m confusao \u001b[39m=\u001b[39m confusion_matrix(y_teste, y_predi)\n",
      "\u001b[1;31mNameError\u001b[0m: name 'y_predi' is not defined"
     ]
    }
   ],
   "source": [
    "confusao = confusion_matrix(y_teste, y_predi)"
   ]
  },
  {
   "cell_type": "code",
   "execution_count": 33,
   "metadata": {},
   "outputs": [
    {
     "ename": "NameError",
     "evalue": "name 'confusao' is not defined",
     "output_type": "error",
     "traceback": [
      "\u001b[1;31m---------------------------------------------------------------------------\u001b[0m",
      "\u001b[1;31mNameError\u001b[0m                                 Traceback (most recent call last)",
      "\u001b[1;32mc:\\Users\\jgmag\\OneDrive\\Área de Trabalho\\Programação\\IA\\Trabalho 2 - IA - Adiel Ferreira\\Ativ2-Classificador.ipynb Cell 28'\u001b[0m in \u001b[0;36m<cell line: 1>\u001b[1;34m()\u001b[0m\n\u001b[1;32m----> <a href='vscode-notebook-cell:/c%3A/Users/jgmag/OneDrive/%C3%81rea%20de%20Trabalho/Programa%C3%A7%C3%A3o/IA/Trabalho%202%20-%20IA%20-%20Adiel%20Ferreira/Ativ2-Classificador.ipynb#ch0000027?line=0'>1</a>\u001b[0m confusao\n",
      "\u001b[1;31mNameError\u001b[0m: name 'confusao' is not defined"
     ]
    }
   ],
   "source": [
    "confusao"
   ]
  },
  {
   "cell_type": "code",
   "execution_count": 34,
   "metadata": {},
   "outputs": [
    {
     "ename": "NameError",
     "evalue": "name 'confusao' is not defined",
     "output_type": "error",
     "traceback": [
      "\u001b[1;31m---------------------------------------------------------------------------\u001b[0m",
      "\u001b[1;31mNameError\u001b[0m                                 Traceback (most recent call last)",
      "\u001b[1;32mc:\\Users\\jgmag\\OneDrive\\Área de Trabalho\\Programação\\IA\\Trabalho 2 - IA - Adiel Ferreira\\Ativ2-Classificador.ipynb Cell 29'\u001b[0m in \u001b[0;36m<cell line: 1>\u001b[1;34m()\u001b[0m\n\u001b[1;32m----> <a href='vscode-notebook-cell:/c%3A/Users/jgmag/OneDrive/%C3%81rea%20de%20Trabalho/Programa%C3%A7%C3%A3o/IA/Trabalho%202%20-%20IA%20-%20Adiel%20Ferreira/Ativ2-Classificador.ipynb#ch0000028?line=0'>1</a>\u001b[0m result \u001b[39m=\u001b[39m confusao[\u001b[39m0\u001b[39m][\u001b[39m0\u001b[39m] \u001b[39m/\u001b[39m (confusao[\u001b[39m0\u001b[39m][\u001b[39m0\u001b[39m] \u001b[39m+\u001b[39m confusao[\u001b[39m1\u001b[39m][\u001b[39m0\u001b[39m] )\n",
      "\u001b[1;31mNameError\u001b[0m: name 'confusao' is not defined"
     ]
    }
   ],
   "source": [
    "result = confusao[0][0] / (confusao[0][0] + confusao[1][0] ) #Cura"
   ]
  },
  {
   "cell_type": "code",
   "execution_count": 35,
   "metadata": {},
   "outputs": [
    {
     "ename": "NameError",
     "evalue": "name 'result' is not defined",
     "output_type": "error",
     "traceback": [
      "\u001b[1;31m---------------------------------------------------------------------------\u001b[0m",
      "\u001b[1;31mNameError\u001b[0m                                 Traceback (most recent call last)",
      "\u001b[1;32mc:\\Users\\jgmag\\OneDrive\\Área de Trabalho\\Programação\\IA\\Trabalho 2 - IA - Adiel Ferreira\\Ativ2-Classificador.ipynb Cell 30'\u001b[0m in \u001b[0;36m<cell line: 1>\u001b[1;34m()\u001b[0m\n\u001b[1;32m----> <a href='vscode-notebook-cell:/c%3A/Users/jgmag/OneDrive/%C3%81rea%20de%20Trabalho/Programa%C3%A7%C3%A3o/IA/Trabalho%202%20-%20IA%20-%20Adiel%20Ferreira/Ativ2-Classificador.ipynb#ch0000029?line=0'>1</a>\u001b[0m result\n",
      "\u001b[1;31mNameError\u001b[0m: name 'result' is not defined"
     ]
    }
   ],
   "source": [
    "result"
   ]
  },
  {
   "cell_type": "code",
   "execution_count": 36,
   "metadata": {},
   "outputs": [
    {
     "ename": "NameError",
     "evalue": "name 'confusao' is not defined",
     "output_type": "error",
     "traceback": [
      "\u001b[1;31m---------------------------------------------------------------------------\u001b[0m",
      "\u001b[1;31mNameError\u001b[0m                                 Traceback (most recent call last)",
      "\u001b[1;32mc:\\Users\\jgmag\\OneDrive\\Área de Trabalho\\Programação\\IA\\Trabalho 2 - IA - Adiel Ferreira\\Ativ2-Classificador.ipynb Cell 31'\u001b[0m in \u001b[0;36m<cell line: 1>\u001b[1;34m()\u001b[0m\n\u001b[1;32m----> <a href='vscode-notebook-cell:/c%3A/Users/jgmag/OneDrive/%C3%81rea%20de%20Trabalho/Programa%C3%A7%C3%A3o/IA/Trabalho%202%20-%20IA%20-%20Adiel%20Ferreira/Ativ2-Classificador.ipynb#ch0000030?line=0'>1</a>\u001b[0m result1 \u001b[39m=\u001b[39m confusao[\u001b[39m0\u001b[39m][\u001b[39m1\u001b[39m] \u001b[39m/\u001b[39m (confusao[\u001b[39m0\u001b[39m][\u001b[39m1\u001b[39m] \u001b[39m+\u001b[39m confusao[\u001b[39m1\u001b[39m][\u001b[39m1\u001b[39m] )\n",
      "\u001b[1;31mNameError\u001b[0m: name 'confusao' is not defined"
     ]
    }
   ],
   "source": [
    "result1 = confusao[0][1] / (confusao[0][1] + confusao[1][1] )  #Obito"
   ]
  },
  {
   "cell_type": "code",
   "execution_count": 37,
   "metadata": {},
   "outputs": [
    {
     "ename": "NameError",
     "evalue": "name 'result1' is not defined",
     "output_type": "error",
     "traceback": [
      "\u001b[1;31m---------------------------------------------------------------------------\u001b[0m",
      "\u001b[1;31mNameError\u001b[0m                                 Traceback (most recent call last)",
      "\u001b[1;32mc:\\Users\\jgmag\\OneDrive\\Área de Trabalho\\Programação\\IA\\Trabalho 2 - IA - Adiel Ferreira\\Ativ2-Classificador.ipynb Cell 32'\u001b[0m in \u001b[0;36m<cell line: 1>\u001b[1;34m()\u001b[0m\n\u001b[1;32m----> <a href='vscode-notebook-cell:/c%3A/Users/jgmag/OneDrive/%C3%81rea%20de%20Trabalho/Programa%C3%A7%C3%A3o/IA/Trabalho%202%20-%20IA%20-%20Adiel%20Ferreira/Ativ2-Classificador.ipynb#ch0000031?line=0'>1</a>\u001b[0m result1\n",
      "\u001b[1;31mNameError\u001b[0m: name 'result1' is not defined"
     ]
    }
   ],
   "source": [
    "result1"
   ]
  }
 ],
 "metadata": {
  "interpreter": {
   "hash": "2141517b8b54576258adc63eb8c26e8d54b751cae896a73a9cfe2ed034e3c160"
  },
  "kernelspec": {
   "display_name": "Python 3 (ipykernel)",
   "language": "python",
   "name": "python3"
  },
  "language_info": {
   "codemirror_mode": {
    "name": "ipython",
    "version": 3
   },
   "file_extension": ".py",
   "mimetype": "text/x-python",
   "name": "python",
   "nbconvert_exporter": "python",
   "pygments_lexer": "ipython3",
   "version": "3.10.2"
  },
  "metadata": {
   "interpreter": {
    "hash": "73ba45a076ac1e116aba418781c80c7cbe19c4d416e51e0d8ab02859d4f6318f"
   }
  }
 },
 "nbformat": 4,
 "nbformat_minor": 4
}
